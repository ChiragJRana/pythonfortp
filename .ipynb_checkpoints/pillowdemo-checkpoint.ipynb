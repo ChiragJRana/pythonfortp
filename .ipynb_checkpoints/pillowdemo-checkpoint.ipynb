{
 "cells": [
  {
   "cell_type": "code",
   "execution_count": 2,
   "metadata": {},
   "outputs": [],
   "source": [
    "from PIL import Image\n",
    "image1 = Image.open('pillowpic1.jpg')\n",
    "image1.show()"
   ]
  },
  {
   "cell_type": "code",
   "execution_count": 3,
   "metadata": {},
   "outputs": [],
   "source": [
    "image1.save('pillowpic1.png')"
   ]
  },
  {
   "cell_type": "code",
   "execution_count": 5,
   "metadata": {},
   "outputs": [
    {
     "name": "stdout",
     "output_type": "stream",
     "text": [
      "pillowpic1.jpg\n",
      "pillowpic2.jpg\n",
      "pillowpic3.jpg\n",
      "pillowpic4.jpg\n",
      "pillowpic5.jpg\n"
     ]
    }
   ],
   "source": [
    "import os\n",
    "for f in os.listdir('.'):\n",
    "    if f.endswith('.jpg'):\n",
    "        print(f)"
   ]
  },
  {
   "cell_type": "code",
   "execution_count": 8,
   "metadata": {},
   "outputs": [],
   "source": [
    "for pic in os.listdir('.'):\n",
    "    if pic.endswith('.jpg'):\n",
    "        i = Image.open(pic)\n",
    "        picname, pictext = os.path.splitext(pic)\n",
    "        i.save(f'pillowpng/{picname}.png')"
   ]
  },
  {
   "cell_type": "code",
   "execution_count": 10,
   "metadata": {},
   "outputs": [],
   "source": [
    "size = (300,300)\n",
    "for pic in os.listdir('.'):\n",
    "    if pic.endswith('.jpg'):\n",
    "        i = Image.open(pic)\n",
    "        picname, pictext = os.path.splitext(pic)\n",
    "        i.thumbnail(size)\n",
    "        i.save(f'300/{picname}_300.png')"
   ]
  },
  {
   "cell_type": "code",
   "execution_count": 25,
   "metadata": {},
   "outputs": [],
   "source": [
    "from PIL import ImageFilter\n",
    "image1 = Image.open('pillowpic1.jpg')\n",
    "image1.transpose(Image.ROTATE_90).save('pillowpic_transpose.jpeg')\n",
    "image1.rotate(90).save('pillowpic_rotated.jpeg')\n",
    "image1.convert(mode='L').save('pillowpic_blackandwhite.png')\n",
    "image1.filter(ImageFilter.GaussianBlur(20)).save('pillowpic_blurr.png')"
   ]
  }
 ],
 "metadata": {
  "kernelspec": {
   "display_name": "Python 3",
   "language": "python",
   "name": "python3"
  },
  "language_info": {
   "codemirror_mode": {
    "name": "ipython",
    "version": 3
   },
   "file_extension": ".py",
   "mimetype": "text/x-python",
   "name": "python",
   "nbconvert_exporter": "python",
   "pygments_lexer": "ipython3",
   "version": "3.7.4"
  }
 },
 "nbformat": 4,
 "nbformat_minor": 2
}
